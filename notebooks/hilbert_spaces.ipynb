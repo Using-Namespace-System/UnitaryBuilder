{
 "cells": [
  {
   "cell_type": "code",
   "execution_count": 1,
   "metadata": {},
   "outputs": [
    {
     "data": {
      "text/plain": [
       "0.006636777104094341"
      ]
     },
     "execution_count": 1,
     "metadata": {},
     "output_type": "execute_result"
    }
   ],
   "source": [
    "import numpy as np\n",
    "import math as m\n",
    "import itertools\n",
    "import scipy as sp\n",
    "\n",
    "def binary_decode(bytearray: list[int]):\n",
    "    bytearray = np.flip(bytearray)\n",
    "    return sum(bytearray * (2 ** np.array(list(enumerate(bytearray.flat)))[:,0]))\n",
    "\n",
    "def binary_encode(ingest: list[int], num_bits: int):\n",
    "    return np.floor_divide(ingest, (2 ** np.array(list(enumerate(range(0,(num_bits)))))[:,0])) % 2\n",
    "\n",
    "def func(i):\n",
    "    return m.tanh(i)\n",
    "\n",
    "def float_func(i, precision, ancillary):\n",
    "    num_bits = precision+ancillary\n",
    "    val = i * (2**(precision))\n",
    "    #print(val)\n",
    "    bin_val = binary_encode(val,num_bits)\n",
    "    return np.array(np.flip(bin_val))\n",
    "\n",
    "def float_decomp(i, precision, ancillary):\n",
    "    num_bits = precision+ancillary\n",
    "    exponent = np.array([0]*ancillary + list(range(1,precision+1)))\n",
    "    div = np.array([2]*(num_bits))\n",
    "    div = div ** exponent\n",
    "    div = np.array([1]*(num_bits)) / div\n",
    "    return np.sum(div*i)\n",
    "\n",
    "\n",
    "def build_basic_oracle(precision, ancillary):\n",
    "\n",
    "    num_bits = precision+ancillary\n",
    "\n",
    "    bin_inputs = np.array(list(itertools.product([0, 1], repeat=(precision))))\n",
    "\n",
    "    bin_inputs = np.unique(np.pad(bin_inputs,(ancillary,0)), axis=0)\n",
    "\n",
    "    inputs = np.apply_along_axis(float_decomp, 1, bin_inputs,precision,ancillary)\n",
    "\n",
    "    index_inputs =  np.array(list(enumerate(inputs.tolist())))[:,0].astype(int)\n",
    "\n",
    "    outputs = np.array([func(i) for i in inputs])\n",
    "\n",
    "    bin_outputs = np.array([float_func(o,precision,ancillary) for o in outputs])\n",
    "\n",
    "    index_outputs = np.array([binary_decode(bo) for bo in bin_outputs]).astype(int)\n",
    "\n",
    "    output_vectors_matrix = sp.sparse.csr_matrix((np.ones(index_outputs.shape),(index_inputs,index_outputs)),(int(2**num_bits),(2**num_bits))).toarray()\n",
    "\n",
    "    return output_vectors_matrix\n",
    "\n",
    "\n",
    "def apply_operation(unitary, dec_input, precision, ancillary):\n",
    "\n",
    "    num_bits = precision + ancillary\n",
    "\n",
    "    input = float_func(dec_input, precision, ancillary)\n",
    "\n",
    "    input_basis_state = np.zeros(2**num_bits)\n",
    "\n",
    "    input_basis_state[int(binary_decode(input))] = 1\n",
    "\n",
    "    output_container = input_basis_state.copy()\n",
    "\n",
    "    for u in unitary:\n",
    "        output_container = output_container @ u\n",
    "\n",
    "    output_basis_state = output_container.copy()\n",
    "\n",
    "    max_probs = np.argwhere(output_basis_state == np.amin(output_basis_state))\n",
    "\n",
    "    top_predictions = np.array([float_decomp(np.flip(binary_encode(max_prob,num_bits)),precision,ancillary) for max_prob in max_probs])\n",
    "\n",
    "    return np.min(top_predictions)\n",
    "\n",
    "precision = 8\n",
    "ancillary = 0\n",
    "num_bits = precision + ancillary\n",
    "\n",
    "basic_op = build_basic_oracle(precision,ancillary)\n",
    "\n",
    "left,sigma,right = np.linalg.svd(basic_op)\n",
    "\n",
    "n_sigma = np.round(sigma,decimals=0).nonzero()[0].size\n",
    "\n",
    "c_sigma = np.diag(np.array([-1]*n_sigma + [1.j]*(sigma.size-n_sigma)))\n",
    "\n",
    "num_tests = 90\n",
    "\n",
    "test_inputs = np.random.rand(num_tests)\n",
    "\n",
    "predictions = np.array([apply_operation([left,c_sigma,right],predict,precision,ancillary) for predict in test_inputs])\n",
    "\n",
    "actuals = np.array([func(real) for real in (test_inputs)])\n",
    "\n",
    "np.max(np.abs(predictions - actuals))\n"
   ]
  },
  {
   "cell_type": "code",
   "execution_count": 2,
   "metadata": {},
   "outputs": [
    {
     "data": {
      "text/plain": [
       "True"
      ]
     },
     "execution_count": 2,
     "metadata": {},
     "output_type": "execute_result"
    }
   ],
   "source": [
    "#unitary\n",
    "\n",
    "np.allclose(np.eye(len(left)), left.dot(left.T.conj()))\n"
   ]
  },
  {
   "cell_type": "code",
   "execution_count": 3,
   "metadata": {},
   "outputs": [
    {
     "data": {
      "text/plain": [
       "0.007207435525769551"
      ]
     },
     "execution_count": 3,
     "metadata": {},
     "output_type": "execute_result"
    }
   ],
   "source": [
    "v = basic_op * -1.j\n",
    "\n",
    "v = (v + v.T.conj()).astype(complex)\n",
    "\n",
    "v = v + np.diag((np.sum(np.power(v,2),axis=1) == -4) * np.sqrt(5+0.j))\n",
    "\n",
    "v = v + np.diag((np.sum(np.power(v,2),axis=1) == -3) * np.sqrt(4+0.j))\n",
    "\n",
    "v = v + np.diag((np.sum(np.power(v,2),axis=1) == -2) * np.sqrt(3+0.j))\n",
    "\n",
    "v = v + np.diag((np.sum(np.power(v,2),axis=1) == -1) * np.sqrt(2+0.j))\n",
    "\n",
    "num_tests = 90\n",
    "\n",
    "test_inputs = np.random.rand(num_tests)\n",
    "\n",
    "predictions = np.array([apply_operation([v],predict,precision,ancillary) for predict in test_inputs])\n",
    "\n",
    "actuals = np.array([func(real) for real in (test_inputs)])\n",
    "\n",
    "np.max(np.abs(predictions - actuals))"
   ]
  },
  {
   "cell_type": "code",
   "execution_count": 4,
   "metadata": {},
   "outputs": [
    {
     "data": {
      "text/plain": [
       "False"
      ]
     },
     "execution_count": 4,
     "metadata": {},
     "output_type": "execute_result"
    }
   ],
   "source": [
    "#skew hermitian\n",
    "\n",
    "np.allclose(v.T.conj(),-v)"
   ]
  },
  {
   "cell_type": "code",
   "execution_count": 5,
   "metadata": {},
   "outputs": [
    {
     "data": {
      "text/plain": [
       "True"
      ]
     },
     "execution_count": 5,
     "metadata": {},
     "output_type": "execute_result"
    }
   ],
   "source": [
    "# hermitian\n",
    "\n",
    "np.allclose(v.T.conj(),v)"
   ]
  },
  {
   "cell_type": "code",
   "execution_count": 6,
   "metadata": {},
   "outputs": [],
   "source": [
    "#orthagonal\n",
    "\n",
    "#np.allclose(v.T,np.linalg.inv(v))"
   ]
  },
  {
   "cell_type": "code",
   "execution_count": 7,
   "metadata": {},
   "outputs": [
    {
     "data": {
      "text/plain": [
       "True"
      ]
     },
     "execution_count": 7,
     "metadata": {},
     "output_type": "execute_result"
    }
   ],
   "source": [
    "#normal hermitian\n",
    "\n",
    "np.allclose(v.T.conj()@v,v@v.T.conj())"
   ]
  },
  {
   "cell_type": "code",
   "execution_count": 8,
   "metadata": {},
   "outputs": [
    {
     "name": "stdout",
     "output_type": "stream",
     "text": [
      "[1.+0.j 1.+0.j 1.+0.j 1.+0.j]\n",
      "[1.+0.j 1.+0.j 1.+0.j 1.+0.j]\n"
     ]
    }
   ],
   "source": [
    "#normal\n",
    "\n",
    "print(np.unique(np.sum(np.power(v,2),axis=0)))\n",
    "print(np.unique(np.sum(np.power(v,2),axis=1)))"
   ]
  },
  {
   "cell_type": "code",
   "execution_count": 9,
   "metadata": {},
   "outputs": [
    {
     "data": {
      "text/plain": [
       "True"
      ]
     },
     "execution_count": 9,
     "metadata": {},
     "output_type": "execute_result"
    }
   ],
   "source": [
    "# all real eigenvalues hermitian\n",
    "\n",
    "eigenvalues,eigenvectors = np.linalg.eig(v)\n",
    "\n",
    "real_eigenvalues = eigenvalues.real\n",
    "\n",
    "np.allclose(np.abs(real_eigenvalues), np.abs(eigenvalues))\n"
   ]
  },
  {
   "cell_type": "code",
   "execution_count": 10,
   "metadata": {},
   "outputs": [
    {
     "data": {
      "text/plain": [
       "False"
      ]
     },
     "execution_count": 10,
     "metadata": {},
     "output_type": "execute_result"
    }
   ],
   "source": [
    "# all eigenvalues on complex unit circle \"unitary\"\n",
    "\n",
    "np.allclose(np.abs(eigenvalues), 1)"
   ]
  }
 ],
 "metadata": {
  "kernelspec": {
   "display_name": "Python 3",
   "language": "python",
   "name": "python3"
  },
  "language_info": {
   "codemirror_mode": {
    "name": "ipython",
    "version": 3
   },
   "file_extension": ".py",
   "mimetype": "text/x-python",
   "name": "python",
   "nbconvert_exporter": "python",
   "pygments_lexer": "ipython3",
   "version": "3.10.13"
  }
 },
 "nbformat": 4,
 "nbformat_minor": 2
}
