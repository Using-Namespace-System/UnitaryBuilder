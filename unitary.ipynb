{
 "cells": [
  {
   "cell_type": "code",
   "execution_count": 82,
   "metadata": {},
   "outputs": [],
   "source": [
    "import numpy as np\n",
    "\n",
    "import math as m\n",
    "\n",
    "import itertools\n",
    "\n",
    "import scipy as sp"
   ]
  },
  {
   "cell_type": "code",
   "execution_count": 83,
   "metadata": {},
   "outputs": [],
   "source": [
    "def binary_decode(bytearray: list[int]):\n",
    "    return sum(bytearray * (2 ** np.array(list(enumerate(bytearray.flat)))[:,0]))\n",
    "\n",
    "def binary_encode(ingest: list[int], meta: list[int]):\n",
    "    return np.floor_divide(ingest, (2 ** np.array(list(enumerate(meta)))[:,0])) % 2\n",
    "\n",
    "def func(i):\n",
    "    return m.tanh(i)\n",
    "\n",
    "def float_func(i, precision):\n",
    "    val = i * (2**(precision-1))\n",
    "    bin_val = binary_encode(val,range(0,(precision)))\n",
    "    return np.flip(bin_val)\n",
    "\n",
    "def float_decomp(i, precision):\n",
    "    exponent = np.arange(0,precision)\n",
    "    div = np.array([2]*(precision))\n",
    "    div = div ** exponent\n",
    "    div = np.array([1]*(precision)) / div\n",
    "    return np.sum(div*i)\n",
    "\n",
    "bin_inputs = np.array(list(itertools.product([0, 1], repeat=8)))\n",
    "\n",
    "bin_inputs[:,0] = bin_inputs[:,0] * 0\n",
    "\n",
    "inputs = np.apply_along_axis(float_decomp, 1, bin_inputs,precision=8)\n",
    "\n",
    "index_inputs =  np.array(list(enumerate(inputs.tolist())))[:,0].astype(int)\n",
    "\n",
    "outputs = np.array([func(i) for i in inputs])\n",
    "\n",
    "bin_outputs = np.array([float_func(o,8) for o in outputs])\n",
    "\n",
    "index_outputs = np.array([binary_decode(bo) for bo in bin_outputs]).astype(int)\n",
    "\n",
    "wildcards = np.vstack([index_inputs,index_outputs]).T\n",
    "halves = np.array(np.unique(index_outputs,return_counts=True, axis=0))\n",
    "mixed = np.ones(index_outputs.shape)\n",
    "mixed[halves[0,:]] = halves[1,:]\n",
    "superimposed_values = mixed[wildcards[:,1]]\n",
    "\n",
    "density = sp.sparse.csr_matrix(((1/np.sqrt(superimposed_values)),(index_inputs,index_outputs)),(index_inputs.size,index_outputs.size)).toarray()\n",
    "\n",
    "input_vectors_matrix = np.diag(np.ones(index_inputs.shape))\n",
    "\n",
    "output_vectors_matrix = sp.sparse.csr_matrix((np.ones(index_outputs.shape),(index_inputs,index_outputs)),(index_inputs.size,index_outputs.size)).toarray()\n",
    "\n",
    "unitary = np.linalg.qr(output_vectors_matrix)[0]"
   ]
  },
  {
   "cell_type": "code",
   "execution_count": 107,
   "metadata": {},
   "outputs": [
    {
     "name": "stdout",
     "output_type": "stream",
     "text": [
      "(array([6]),)\n",
      "[-5.00000000e-01 -5.00000000e-01 -4.08248290e-01 -6.56976373e-17\n",
      " -3.33333333e-01 -3.33333333e-01  3.33333333e-01]\n",
      "[1 0 1 1 1 1 1 0]\n"
     ]
    },
    {
     "data": {
      "text/plain": [
       "0.515625"
      ]
     },
     "execution_count": 107,
     "metadata": {},
     "output_type": "execute_result"
    }
   ],
   "source": [
    "precision = 8\n",
    "\n",
    "input = float_func(0.75, precision)\n",
    "\n",
    "input_basis_state = np.zeros(2**precision)\n",
    "\n",
    "input_basis_state[int(binary_decode(input))] = 1\n",
    "\n",
    "print(input_basis_state.nonzero())\n",
    "\n",
    "output_basis_state = input_basis_state @ unitary\n",
    "\n",
    "prob_indexes = output_basis_state.nonzero()\n",
    "\n",
    "probs = output_basis_state[prob_indexes]\n",
    "\n",
    "max_prob = np.argmax(output_basis_state)\n",
    "\n",
    "print(probs)\n",
    "\n",
    "#bin_output = binary_encode(max_prob,range(0,(precision)))\n",
    "\n",
    "bin_output = binary_encode(prob_indexes[0][0],range(0,(precision)))\n",
    "\n",
    "print(bin_output)\n",
    "\n",
    "float_decomp(bin_output, precision)"
   ]
  },
  {
   "cell_type": "code",
   "execution_count": 85,
   "metadata": {},
   "outputs": [
    {
     "data": {
      "text/plain": [
       "0.6351489523872873"
      ]
     },
     "execution_count": 85,
     "metadata": {},
     "output_type": "execute_result"
    }
   ],
   "source": [
    "func(0.75)"
   ]
  },
  {
   "cell_type": "code",
   "execution_count": null,
   "metadata": {},
   "outputs": [],
   "source": []
  }
 ],
 "metadata": {
  "kernelspec": {
   "display_name": "Python 3",
   "language": "python",
   "name": "python3"
  },
  "language_info": {
   "codemirror_mode": {
    "name": "ipython",
    "version": 3
   },
   "file_extension": ".py",
   "mimetype": "text/x-python",
   "name": "python",
   "nbconvert_exporter": "python",
   "pygments_lexer": "ipython3",
   "version": "3.10.13"
  }
 },
 "nbformat": 4,
 "nbformat_minor": 2
}
