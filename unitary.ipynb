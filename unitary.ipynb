{
 "cells": [
  {
   "cell_type": "code",
   "execution_count": 261,
   "metadata": {},
   "outputs": [
    {
     "name": "stdout",
     "output_type": "stream",
     "text": [
      "[[-0.70710678  0.          0.         ...  0.04419417  0.04419417\n",
      "   0.04419417]\n",
      " [-0.70710678  0.          0.         ... -0.04419417 -0.04419417\n",
      "  -0.04419417]\n",
      " [-0.         -1.          0.         ...  0.          0.\n",
      "   0.        ]\n",
      " ...\n",
      " [-0.         -0.         -0.         ...  0.5         0.\n",
      "   0.        ]\n",
      " [-0.         -0.         -0.         ...  0.          0.5\n",
      "  -0.5       ]\n",
      " [-0.         -0.         -0.         ...  0.         -0.5\n",
      "   0.5       ]]\n"
     ]
    }
   ],
   "source": [
    "import numpy as np\n",
    "import math as m\n",
    "import itertools\n",
    "import scipy as sp\n",
    "\n",
    "def binary_decode(bytearray: list[int]):\n",
    "    bytearray = np.flip(bytearray)\n",
    "    return sum(bytearray * (2 ** np.array(list(enumerate(bytearray.flat)))[:,0]))\n",
    "\n",
    "def binary_encode(ingest: list[int], num_bits: int):\n",
    "    return np.floor_divide(ingest, (2 ** np.array(list(enumerate(range(0,(num_bits)))))[:,0])) % 2\n",
    "\n",
    "def func(i):\n",
    "    return m.tanh(i)\n",
    "\n",
    "def float_func(i, precision, ancillary):\n",
    "    num_bits = precision+ancillary\n",
    "    val = i * (2**(precision))\n",
    "    #print(val)\n",
    "    bin_val = binary_encode(val,num_bits)\n",
    "    return np.array(np.flip(bin_val))\n",
    "\n",
    "def float_decomp(i, precision, ancillary):\n",
    "    num_bits = precision+ancillary\n",
    "    exponent = np.array([0]*ancillary + list(range(1,precision+1)))\n",
    "    div = np.array([2]*(num_bits))\n",
    "    div = div ** exponent\n",
    "    div = np.array([1]*(num_bits)) / div\n",
    "    return np.sum(div*i)\n",
    "\n",
    "\n",
    "def build_unitary(precision, ancillary):\n",
    "\n",
    "    num_bits = precision+ancillary\n",
    "\n",
    "    bin_inputs = np.array(list(itertools.product([0, 1], repeat=(precision))))\n",
    "\n",
    "    bin_inputs = np.unique(np.pad(bin_inputs,(ancillary,0)), axis=0)\n",
    "\n",
    "    inputs = np.apply_along_axis(float_decomp, 1, bin_inputs,precision,ancillary)\n",
    "\n",
    "    index_inputs =  np.array(list(enumerate(inputs.tolist())))[:,0].astype(int)\n",
    "\n",
    "    outputs = np.array([func(i) for i in inputs])\n",
    "\n",
    "    bin_outputs = np.array([float_func(o,precision,ancillary) for o in outputs])\n",
    "\n",
    "    index_outputs = np.array([binary_decode(bo) for bo in bin_outputs]).astype(int)\n",
    "\n",
    "    output_vectors_matrix = sp.sparse.csr_matrix((np.ones(index_outputs.shape),(index_inputs,index_outputs)),(int(2**num_bits),(2**num_bits))).toarray()\n",
    "\n",
    "    return np.linalg.qr(output_vectors_matrix)[0]\n",
    "\n",
    "precision = 8\n",
    "\n",
    "ancillary = 0\n",
    "\n",
    "num_bits = precision + ancillary\n",
    "\n",
    "unitary = build_unitary(precision,ancillary)\n",
    "\n",
    "print(unitary)"
   ]
  },
  {
   "cell_type": "code",
   "execution_count": 262,
   "metadata": {},
   "outputs": [],
   "source": [
    "def apply_unitary(unitary, dec_input, precision, ancillary):\n",
    "\n",
    "    num_bits = precision + ancillary\n",
    "\n",
    "    input = float_func(dec_input, precision, ancillary)\n",
    "\n",
    "    input_basis_state = np.zeros(2**num_bits)\n",
    "\n",
    "    input_basis_state[int(binary_decode(input))] = 1\n",
    "\n",
    "    output_basis_state = np.abs(input_basis_state @ unitary)\n",
    "\n",
    "    max_probs = np.argwhere(output_basis_state == np.amax(output_basis_state))\n",
    "\n",
    "    top_predictions = np.array([float_decomp(np.flip(binary_encode(max_prob,num_bits)),precision,ancillary) for max_prob in max_probs])\n",
    "\n",
    "    return top_predictions[0]\n"
   ]
  },
  {
   "cell_type": "code",
   "execution_count": 263,
   "metadata": {},
   "outputs": [
    {
     "name": "stdout",
     "output_type": "stream",
     "text": [
      "[0.16796875 0.22265625 0.71484375 0.5625     0.55078125 0.15234375\n",
      " 0.70703125 0.65234375 0.42578125 0.19921875 0.66796875 0.1796875\n",
      " 0.5234375  0.51953125 0.37109375]\n",
      "[0.17117927 0.22607361 0.71833728 0.56793501 0.55620701 0.15693334\n",
      " 0.71140322 0.65724015 0.43008247 0.20060976 0.67042702 0.18164255\n",
      " 0.52569268 0.52331172 0.3723643 ]\n"
     ]
    },
    {
     "data": {
      "text/plain": [
       "-0.0034834595691870863"
      ]
     },
     "execution_count": 263,
     "metadata": {},
     "output_type": "execute_result"
    }
   ],
   "source": [
    "\n",
    "\n",
    "num_tests = 15\n",
    "\n",
    "test_inputs = np.random.rand(num_tests)\n",
    "\n",
    "predictions = np.array([apply_unitary(unitary,predict,precision,ancillary) for predict in test_inputs])\n",
    "\n",
    "print(predictions)\n",
    "\n",
    "actuals = np.array([func(real) for real in (test_inputs)])\n",
    "\n",
    "print(actuals)\n",
    "\n",
    "np.average(predictions - actuals)"
   ]
  },
  {
   "cell_type": "code",
   "execution_count": 264,
   "metadata": {},
   "outputs": [
    {
     "data": {
      "text/html": [
       "<pre style=\"word-wrap: normal;white-space: pre;background: #fff0;line-height: 1.1;font-family: &quot;Courier New&quot;,Courier,monospace\">       ┌──────────┐\n",
       "q44_0: ┤0         ├\n",
       "       │          │\n",
       "q44_1: ┤1         ├\n",
       "       │          │\n",
       "q44_2: ┤2         ├\n",
       "       │          │\n",
       "q44_3: ┤3         ├\n",
       "       │  Unitary │\n",
       "q44_4: ┤4         ├\n",
       "       │          │\n",
       "q44_5: ┤5         ├\n",
       "       │          │\n",
       "q44_6: ┤6         ├\n",
       "       │          │\n",
       "q44_7: ┤7         ├\n",
       "       └──────────┘</pre>"
      ],
      "text/plain": [
       "       ┌──────────┐\n",
       "q44_0: ┤0         ├\n",
       "       │          │\n",
       "q44_1: ┤1         ├\n",
       "       │          │\n",
       "q44_2: ┤2         ├\n",
       "       │          │\n",
       "q44_3: ┤3         ├\n",
       "       │  Unitary │\n",
       "q44_4: ┤4         ├\n",
       "       │          │\n",
       "q44_5: ┤5         ├\n",
       "       │          │\n",
       "q44_6: ┤6         ├\n",
       "       │          │\n",
       "q44_7: ┤7         ├\n",
       "       └──────────┘"
      ]
     },
     "execution_count": 264,
     "metadata": {},
     "output_type": "execute_result"
    }
   ],
   "source": [
    "from qiskit import QuantumCircuit, QuantumRegister, transpile\n",
    "from qiskit.circuit.library import UnitaryGate\n",
    "\n",
    "qr = QuantumRegister(num_bits)\n",
    "\n",
    "qc = QuantumCircuit(qr)\n",
    "\n",
    "u = UnitaryGate(unitary)\n",
    "\n",
    "qc.append(u,qr)\n",
    "\n",
    "qc.draw()"
   ]
  }
 ],
 "metadata": {
  "kernelspec": {
   "display_name": "Python 3",
   "language": "python",
   "name": "python3"
  },
  "language_info": {
   "codemirror_mode": {
    "name": "ipython",
    "version": 3
   },
   "file_extension": ".py",
   "mimetype": "text/x-python",
   "name": "python",
   "nbconvert_exporter": "python",
   "pygments_lexer": "ipython3",
   "version": "3.10.13"
  }
 },
 "nbformat": 4,
 "nbformat_minor": 2
}
