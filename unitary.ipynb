{
 "cells": [
  {
   "cell_type": "code",
   "execution_count": 211,
   "metadata": {},
   "outputs": [],
   "source": [
    "import numpy as np\n",
    "\n",
    "import math as m\n",
    "\n",
    "import itertools"
   ]
  },
  {
   "cell_type": "code",
   "execution_count": 255,
   "metadata": {},
   "outputs": [
    {
     "name": "stdout",
     "output_type": "stream",
     "text": [
      "[  0.   0. 128.  64. 192.  32. 160.  96. 224.  16. 144.  80. 208.  48.\n",
      " 176. 112. 240.   8. 136.  72. 200.  40. 168. 104. 232.  24. 152.  88.\n",
      " 216.  56. 184. 120. 248.   4. 132.  68. 196.  36.  36. 164. 100. 228.\n",
      "  20. 148.  84. 212.  52.  52. 180. 116. 244.  12. 140.  76. 204. 204.\n",
      "  44. 172. 108. 236. 236.  28. 156.  92. 220. 220.  60. 188. 124. 252.\n",
      " 252.   2. 130. 130.  66. 194.  34.  34. 162.  98.  98. 226.  18. 146.\n",
      " 146.  82. 210. 210.  50.  50. 178. 114. 114. 242.  10.  10. 138. 138.\n",
      "  74. 202. 202.  42.  42. 170. 170. 106. 106. 234.  26.  26. 154. 154.\n",
      "  90.  90. 218. 218.  58.  58. 186. 186. 186. 122. 122. 250. 250.   6.\n",
      "   6. 134.   0.   0. 128.  64. 192.  32. 160.  96. 224.  16. 144.  80.\n",
      " 208.  48. 176. 112. 240.   8. 136.  72. 200.  40. 168. 104. 232.  24.\n",
      " 152.  88. 216.  56. 184. 120. 248.   4. 132.  68. 196.  36.  36. 164.\n",
      " 100. 228.  20. 148.  84. 212.  52.  52. 180. 116. 244.  12. 140.  76.\n",
      " 204. 204.  44. 172. 108. 236. 236.  28. 156.  92. 220. 220.  60. 188.\n",
      " 124. 252. 252.   2. 130. 130.  66. 194.  34.  34. 162.  98.  98. 226.\n",
      "  18. 146. 146.  82. 210. 210.  50.  50. 178. 114. 114. 242.  10.  10.\n",
      " 138. 138.  74. 202. 202.  42.  42. 170. 170. 106. 106. 234.  26.  26.\n",
      " 154. 154.  90.  90. 218. 218.  58.  58. 186. 186. 186. 122. 122. 250.\n",
      " 250.   6.   6. 134.]\n"
     ]
    }
   ],
   "source": [
    "def binary_decode(bytearray: list[int]):\n",
    "    return sum(bytearray * (2 ** np.array(list(enumerate(bytearray.flat)))[:,0]))\n",
    "\n",
    "def binary_encode(ingest: list[int], meta: list[int]):\n",
    "    return np.floor_divide(ingest, (2 ** np.array(list(enumerate(meta)))[:,0])) % 2\n",
    "\n",
    "def func(i):\n",
    "    return m.tanh(i)\n",
    "\n",
    "def float_func(i, precision):\n",
    "    val = i * (2**(precision-1))\n",
    "    bin_val = binary_encode(val,range(0,(precision)))\n",
    "    return np.flip(bin_val)\n",
    "\n",
    "def float_decomp(i, precision):\n",
    "    exponent = np.arange(0,precision)\n",
    "    div = np.array([2]*(precision))\n",
    "    div = div ** exponent\n",
    "    div = np.array([1]*(precision)) / div\n",
    "    return np.sum(div*i)\n",
    "\n",
    "bin_inputs = np.array(list(itertools.product([0, 1], repeat=8)))\n",
    "\n",
    "bin_inputs[:,0] = bin_inputs[:,0] * 0\n",
    "\n",
    "inputs = np.apply_along_axis(float_decomp, 1, bin_inputs,precision=8)\n",
    "\n",
    "index_inputs =  np.array(enumerate(inputs.tolist()))\n",
    "\n",
    "outputs = np.array([func(i) for i in inputs])\n",
    "\n",
    "bin_outputs = np.array([float_func(o,8) for o in outputs])\n",
    "\n",
    "index_outputs = np.array([binary_decode(bo) for bo in bin_outputs])\n",
    "\n",
    "print(index_outputs)\n",
    "\n"
   ]
  },
  {
   "cell_type": "code",
   "execution_count": null,
   "metadata": {},
   "outputs": [],
   "source": []
  }
 ],
 "metadata": {
  "kernelspec": {
   "display_name": "Python 3",
   "language": "python",
   "name": "python3"
  },
  "language_info": {
   "codemirror_mode": {
    "name": "ipython",
    "version": 3
   },
   "file_extension": ".py",
   "mimetype": "text/x-python",
   "name": "python",
   "nbconvert_exporter": "python",
   "pygments_lexer": "ipython3",
   "version": "3.10.13"
  }
 },
 "nbformat": 4,
 "nbformat_minor": 2
}
